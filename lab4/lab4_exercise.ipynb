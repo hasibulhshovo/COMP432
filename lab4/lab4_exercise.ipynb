{
  "nbformat": 4,
  "nbformat_minor": 0,
  "metadata": {
    "colab": {
      "provenance": []
    },
    "kernelspec": {
      "name": "python3",
      "display_name": "Python 3"
    },
    "language_info": {
      "name": "python"
    }
  },
  "cells": [
    {
      "cell_type": "markdown",
      "metadata": {
        "id": "view-in-github",
        "colab_type": "text"
      },
      "source": [
        "<a href=\"https://colab.research.google.com/github/hasibulhshovo/COMP432/blob/main/lab4/lab_4_exercise.ipynb\" target=\"_parent\"><img src=\"https://colab.research.google.com/assets/colab-badge.svg\" alt=\"Open In Colab\"/></a>"
      ]
    },
    {
      "cell_type": "markdown",
      "source": [
        "# $\\textbf{LAB 04: Logistic Regression}$\n",
        "\n",
        "## $\\Large\\textbf{Main Points}$\n",
        "\n",
        "### $\\textit{Topics we will cover:}$\n",
        "\n",
        "* $\\bullet$ Implement logistic regression classifier with sigmoid activation\n",
        "* $\\bullet$ Code gradient descent optimization from scratch  \n",
        "* $\\bullet$ Build the model that outputs probabilities instead of hard decisions\n",
        "* $\\bullet$ Track loss convergence during training\n",
        "* $\\bullet$ Compare performance on training and test data\n",
        "* $\\bullet$ Example using sklearn's LogisticRegression\n",
        "\n",
        "---\n",
        "\n",
        "For visualization of gradient descent: [Gradient Descent Visualizer](https://www.deeplearning.ai/ai-notes/optimization/) (Near the end of the page)\n",
        "\n",
        "---\n"
      ],
      "metadata": {
        "id": "zdV4fxga9Att"
      }
    },
    {
      "cell_type": "code",
      "source": [
        "# Importing libraries\n",
        "import numpy as np\n",
        "import pandas as pd\n",
        "import matplotlib.pyplot as plt\n",
        "from sklearn.model_selection import train_test_split\n",
        "from sklearn.datasets import load_breast_cancer\n",
        "from sklearn.preprocessing import StandardScaler"
      ],
      "metadata": {
        "id": "uriM9sLs8Egd"
      },
      "execution_count": 1,
      "outputs": []
    },
    {
      "cell_type": "markdown",
      "source": [
        "\n",
        "## $\\textbf{The Dataset: Tumor Classification}$\n",
        "\n",
        "We use breast cancer data predicting whether a tumor is malignant based on:\n",
        "\n",
        "* $\\textbf{Tumor Radius}$: Size of the tumor (normalized)\n",
        "* $\\textbf{Tumor Texture}$: Roughness measurement (normalized)\n",
        "* $\\textbf{Target}$: Binary classification - Benign (1) / Malignant (0)\n",
        "\n",
        "\n",
        "---"
      ],
      "metadata": {
        "id": "nEQMhylKDc28"
      }
    },
    {
      "cell_type": "markdown",
      "source": [
        "# Part 1: Data loading"
      ],
      "metadata": {
        "id": "XgGP2lL59siP"
      }
    },
    {
      "cell_type": "code",
      "source": [
        "data = load_breast_cancer() # breast cancer dataset from sklearn\n",
        "\n",
        "# here we will only use first 2 features\n",
        "\n",
        "X = data.data[:, [0, 1]]  # radius and texture\n",
        "y = data.target  # 1 = benign, 0 = malignant\n",
        "\n",
        "# create dataframe\n",
        "df = pd.DataFrame(X, columns=['radius', 'texture'])\n",
        "df['diagnosis'] = y\n",
        "\n",
        "print(df.head())\n",
        "print(f\"Dataset shape: {df.shape}\")\n",
        "print(f\"Benign samples: {(y == 1).sum()}\")\n",
        "print(f\"Malignant samples: {(y == 0).sum()}\")\n",
        "\n",
        "# Normalization, note from last lab, we also went over the effect of this on the model's result\n",
        "X_mean = X.mean(axis=0)\n",
        "X_std = X.std(axis=0)\n",
        "X_normalized = (X - X_mean) / X_std\n",
        "\n",
        "print(f\"Feature dimensions: {X_normalized.shape}\")\n",
        "print(f\"Number of samples: {len(y)}\")"
      ],
      "metadata": {
        "colab": {
          "base_uri": "https://localhost:8080/"
        },
        "id": "4Z6sLMtf8G0h",
        "outputId": "2727d7d3-4d6b-42ce-eb03-8e26a8ed8699"
      },
      "execution_count": 2,
      "outputs": [
        {
          "output_type": "stream",
          "name": "stdout",
          "text": [
            "   radius  texture  diagnosis\n",
            "0   17.99    10.38          0\n",
            "1   20.57    17.77          0\n",
            "2   19.69    21.25          0\n",
            "3   11.42    20.38          0\n",
            "4   20.29    14.34          0\n",
            "Dataset shape: (569, 3)\n",
            "Benign samples: 357\n",
            "Malignant samples: 212\n",
            "Feature dimensions: (569, 2)\n",
            "Number of samples: 569\n"
          ]
        }
      ]
    },
    {
      "cell_type": "markdown",
      "source": [
        "# Part 2: Implement Logistic Regression\n",
        "\n",
        "### Logistic Regression\n",
        "The model outputs probability using sigmoid function:\n",
        "\n",
        "$p = \\sigma(\\theta^T X + \\theta_0) = \\frac{1}{1 + e^{-(\\theta^T X + \\theta_0)}}$\n",
        "\n",
        "where sigmoid squashes any value to range (0, 1)"
      ],
      "metadata": {
        "id": "_yt5yodi-GXs"
      }
    },
    {
      "cell_type": "code",
      "source": [
        "class LogisticRegression:\n",
        "\n",
        "    def __init__(self, learning_rate=0.1, n_iterations=300):\n",
        "        # Initialize the learning rate and number of iterations for gradient descent\n",
        "        self.learning_rate = learning_rate\n",
        "        self.n_iterations = n_iterations\n",
        "\n",
        "        # Model parameters (weights and bias) to be initialized later\n",
        "        self.theta = None     # Weights\n",
        "        self.theta0 = None    # Bias (intercept)\n",
        "\n",
        "        # To store loss after each iteration (for analysis or plotting)\n",
        "        self.loss_history = []\n",
        "\n",
        "    def sigmoid(self, z):\n",
        "        # Sigmoid activation function: maps input to range (0, 1)\n",
        "        return 1 / (1 + np.exp(-z))\n",
        "\n",
        "    def compute_loss(self, X, y):  # negative log likelihood\n",
        "        # Compute the binary cross-entropy loss\n",
        "\n",
        "        m = len(y)  # Number of samples\n",
        "        z = X.dot(self.theta) + self.theta0  # Linear combination of features and weights\n",
        "        predictions = self.sigmoid(z)  # Predicted probabilities\n",
        "\n",
        "        epsilon = 1e-7  # Small constant to avoid log(0)\n",
        "        predictions = np.clip(predictions, epsilon, 1 - epsilon)  # Clipping predictions\n",
        "\n",
        "        # Compute average negative log-likelihood (cross-entropy loss)\n",
        "        loss = -np.mean(y * np.log(predictions) + (1 - y) * np.log(1 - predictions))\n",
        "        return loss\n",
        "\n",
        "    def fit(self, X, y):\n",
        "        # Fit the model to the training data using gradient descent\n",
        "\n",
        "        n_samples, n_features = X.shape\n",
        "\n",
        "        # Initialize weights (theta) with small random values and bias (theta0) as zero\n",
        "        self.theta = np.random.randn(n_features) * 0.01\n",
        "        self.theta0 = 0\n",
        "\n",
        "        # Gradient descent loop\n",
        "        for iteration in range(self.n_iterations):\n",
        "            # Forward pass: compute predicted values\n",
        "            z = X.dot(self.theta) + self.theta0\n",
        "            predictions = self.sigmoid(z)\n",
        "\n",
        "            # Compute and store the loss\n",
        "            loss = self.compute_loss(X, y)\n",
        "            self.loss_history.append(loss)\n",
        "\n",
        "            # Compute gradients w.r.t. weights and bias\n",
        "            errors = predictions - y\n",
        "            grad_theta = (1 / n_samples) * X.T.dot(errors)\n",
        "            grad_theta0 = (1 / n_samples) * np.sum(errors)\n",
        "\n",
        "            # Update model parameters using gradient descent\n",
        "            self.theta -= self.learning_rate * grad_theta\n",
        "            self.theta0 -= self.learning_rate * grad_theta0\n",
        "\n",
        "            # Optionally print the loss every 50 iterations\n",
        "            if iteration % 50 == 0:\n",
        "                print(f\"  Iteration {iteration}: Loss = {loss:.3f}\")\n",
        "\n",
        "        return self  # Return the fitted model instance\n",
        "\n",
        "    def predict_proba(self, X):\n",
        "        # Return the predicted probabilities (between 0 and 1)\n",
        "        z = X.dot(self.theta) + self.theta0\n",
        "        return self.sigmoid(z)\n",
        "\n",
        "    def predict(self, X):\n",
        "        # Predict binary class labels (0 or 1) based on probability threshold of 0.5\n",
        "        return (self.predict_proba(X) >= 0.5).astype(int)\n",
        "\n",
        "    def score(self, X, y):\n",
        "        # Compute accuracy: proportion of correct predictions\n",
        "        predictions = self.predict(X)\n",
        "        return np.mean(predictions == y)"
      ],
      "metadata": {
        "id": "5OPs93KF8Lal"
      },
      "execution_count": 3,
      "outputs": []
    },
    {
      "cell_type": "markdown",
      "source": [
        "# Part 3: Train and Evaluate"
      ],
      "metadata": {
        "id": "ysrcpe2t_CJU"
      }
    },
    {
      "cell_type": "code",
      "source": [
        "# Split the normalized feature matrix and target vector into training and test sets\n",
        "# test_size=0.3 means 30% of the data is used for testing, and 70% for training\n",
        "# random_state=42 ensures reproducibility (same split every time the code runs)\n",
        "X_train, X_test, y_train, y_test = train_test_split(X_normalized, y, test_size=0.3, random_state=42)\n",
        "\n",
        "# Print the number of training samples\n",
        "print(f\"Training samples: {len(X_train)}\")\n",
        "\n",
        "# Print the number of test samples\n",
        "print(f\"Test samples: {len(X_test)}\")"
      ],
      "metadata": {
        "colab": {
          "base_uri": "https://localhost:8080/"
        },
        "id": "9rfpKV4G8PZD",
        "outputId": "086deaa8-64aa-42fb-c74b-3c8bb133fcac"
      },
      "execution_count": 4,
      "outputs": [
        {
          "output_type": "stream",
          "name": "stdout",
          "text": [
            "Training samples: 398\n",
            "Test samples: 171\n"
          ]
        }
      ]
    },
    {
      "cell_type": "code",
      "source": [
        "# Define a list of different learning rates to experiment with\n",
        "learning_rates = [0.01, 0.1, 1.0, 5.0]\n",
        "\n",
        "# List to store performance metrics for each learning rate\n",
        "results = []\n",
        "\n",
        "# Initialize variables to keep track of the best model and highest test accuracy\n",
        "best_model = None\n",
        "best_accuracy = 0\n",
        "\n",
        "# Loop through each learning rate\n",
        "for lr in learning_rates:\n",
        "    print(f\" going over with learning rate = {lr}\")\n",
        "\n",
        "    # Create a new LogisticRegression model instance with the current learning rate\n",
        "    model = LogisticRegression(learning_rate=lr, n_iterations=200)\n",
        "\n",
        "    # Train the model using the training data\n",
        "    model.fit(X_train, y_train)\n",
        "\n",
        "    # Evaluate the model's accuracy on training data\n",
        "    train_acc = model.score(X_train, y_train)\n",
        "\n",
        "    # Evaluate the model's accuracy on test data\n",
        "    test_acc = model.score(X_test, y_test)\n",
        "\n",
        "    # Store the results (learning rate, accuracies, and final loss value)\n",
        "    results.append({\n",
        "        'learning_rate': lr,\n",
        "        'train_acc': train_acc * 100,   # convert to percentage\n",
        "        'test_acc': test_acc * 100,     # convert to percentage\n",
        "        'final_loss': model.loss_history[-1]  # last loss value after training\n",
        "    })\n",
        "\n",
        "    # Update best model if this one performs better on the test set\n",
        "    if test_acc > best_accuracy:\n",
        "        best_accuracy = test_acc\n",
        "        best_model = model\n",
        "        best_lr = lr\n",
        "\n",
        "    # Print training and test accuracy for the current model\n",
        "    print(f\"Training accuracy: {train_acc:}\")\n",
        "    print(f\"  Test accuracy: {test_acc:}\")"
      ],
      "metadata": {
        "colab": {
          "base_uri": "https://localhost:8080/"
        },
        "id": "ZPhbSkoy_UTo",
        "outputId": "f7c7bd95-3b0a-4cc8-baa0-20bb38d40939"
      },
      "execution_count": 5,
      "outputs": [
        {
          "output_type": "stream",
          "name": "stdout",
          "text": [
            " going over with learning rate = 0.01\n",
            "  Iteration 0: Loss = 0.692\n",
            "  Iteration 50: Loss = 0.618\n",
            "  Iteration 100: Loss = 0.563\n",
            "  Iteration 150: Loss = 0.521\n",
            "Training accuracy: 0.8793969849246231\n",
            "  Test accuracy: 0.8888888888888888\n",
            " going over with learning rate = 0.1\n",
            "  Iteration 0: Loss = 0.694\n",
            "  Iteration 50: Loss = 0.388\n",
            "  Iteration 100: Loss = 0.333\n",
            "  Iteration 150: Loss = 0.312\n",
            "Training accuracy: 0.8844221105527639\n",
            "  Test accuracy: 0.9064327485380117\n",
            " going over with learning rate = 1.0\n",
            "  Iteration 0: Loss = 0.692\n",
            "  Iteration 50: Loss = 0.282\n",
            "  Iteration 100: Loss = 0.278\n",
            "  Iteration 150: Loss = 0.278\n",
            "Training accuracy: 0.8894472361809045\n",
            "  Test accuracy: 0.9064327485380117\n",
            " going over with learning rate = 5.0\n",
            "  Iteration 0: Loss = 0.697\n",
            "  Iteration 50: Loss = 0.278\n",
            "  Iteration 100: Loss = 0.278\n",
            "  Iteration 150: Loss = 0.278\n",
            "Training accuracy: 0.8894472361809045\n",
            "  Test accuracy: 0.9064327485380117\n"
          ]
        }
      ]
    },
    {
      "cell_type": "markdown",
      "source": [
        "# Part 4: Visualize the results"
      ],
      "metadata": {
        "id": "xX65b0_m_QCq"
      }
    },
    {
      "cell_type": "code",
      "source": [
        "results_df = pd.DataFrame(results)\n",
        "print(results_df)"
      ],
      "metadata": {
        "colab": {
          "base_uri": "https://localhost:8080/"
        },
        "id": "bHKHq8kM8XH4",
        "outputId": "2efa47cd-4e8f-4401-abdf-696257f5648c"
      },
      "execution_count": 6,
      "outputs": [
        {
          "output_type": "stream",
          "name": "stdout",
          "text": [
            "   learning_rate  train_acc   test_acc  final_loss\n",
            "0           0.01  87.939698  88.888889    0.489054\n",
            "1           0.10  88.442211  90.643275    0.300520\n",
            "2           1.00  88.944724  90.643275    0.277936\n",
            "3           5.00  88.944724  90.643275    0.277924\n"
          ]
        }
      ]
    },
    {
      "cell_type": "code",
      "source": [
        "# Loop through the first 4 learning rates to train models and plot their loss curves\n",
        "for i, lr in enumerate(learning_rates[:4]):  # Plotting loss curves for first 4 learning rates\n",
        "    # Create a new model instance with the current learning rate\n",
        "    model = LogisticRegression(learning_rate=lr, n_iterations=300)\n",
        "\n",
        "    # Train the model on the training data\n",
        "    model.fit(X_train, y_train)\n",
        "\n",
        "    # Plot the loss history for this learning rate\n",
        "    plt.plot(model.loss_history, label=f'LR={lr}')\n",
        "\n",
        "# Add labels and title to the plot\n",
        "plt.xlabel('Iteration')             # X-axis: number of iterations\n",
        "plt.ylabel('Loss')                  # Y-axis: loss value\n",
        "plt.title('Loss Convergence')       # Plot title\n",
        "\n",
        "# Show legend to distinguish between different learning rates\n",
        "plt.legend()\n",
        "\n",
        "# Add a light grid to the plot for better readability\n",
        "plt.grid(alpha=0.3)"
      ],
      "metadata": {
        "colab": {
          "base_uri": "https://localhost:8080/",
          "height": 889
        },
        "id": "K-uf-N-_IJr-",
        "outputId": "22edaf60-129a-42d0-ab21-6ed27fddb67f"
      },
      "execution_count": 7,
      "outputs": [
        {
          "output_type": "stream",
          "name": "stdout",
          "text": [
            "  Iteration 0: Loss = 0.687\n",
            "  Iteration 50: Loss = 0.614\n",
            "  Iteration 100: Loss = 0.560\n",
            "  Iteration 150: Loss = 0.519\n",
            "  Iteration 200: Loss = 0.487\n",
            "  Iteration 250: Loss = 0.461\n",
            "  Iteration 0: Loss = 0.696\n",
            "  Iteration 50: Loss = 0.388\n",
            "  Iteration 100: Loss = 0.333\n",
            "  Iteration 150: Loss = 0.311\n",
            "  Iteration 200: Loss = 0.300\n",
            "  Iteration 250: Loss = 0.294\n",
            "  Iteration 0: Loss = 0.697\n",
            "  Iteration 50: Loss = 0.282\n",
            "  Iteration 100: Loss = 0.278\n",
            "  Iteration 150: Loss = 0.278\n",
            "  Iteration 200: Loss = 0.278\n",
            "  Iteration 250: Loss = 0.278\n",
            "  Iteration 0: Loss = 0.691\n",
            "  Iteration 50: Loss = 0.278\n",
            "  Iteration 100: Loss = 0.278\n",
            "  Iteration 150: Loss = 0.278\n",
            "  Iteration 200: Loss = 0.278\n",
            "  Iteration 250: Loss = 0.278\n"
          ]
        },
        {
          "output_type": "display_data",
          "data": {
            "text/plain": [
              "<Figure size 640x480 with 1 Axes>"
            ],
            "image/png": "[encoded data removed]"
          },
          "metadata": {}
        }
      ]
    },
    {
      "cell_type": "markdown",
      "source": [
        "# Part 6: Analyzing Predictions\n",
        "This is a simple confidence check, the goal from this is to get the least confident and the most confident predictions\n"
      ],
      "metadata": {
        "id": "yEun3UFuCn-z"
      }
    },
    {
      "cell_type": "code",
      "source": [
        "# Get the predicted probabilities for the test set using the best model\n",
        "test_probs = best_model.predict_proba(X_test)  # Each value is the predicted probability of class 1\n",
        "\n",
        "# Calculate confidence scores: distance from 0.5, scaled to range [0, 1]\n",
        "# A probability of 0.5 means total uncertainty; closer to 0 or 1 means higher confidence\n",
        "confidence = np.abs(test_probs - 0.5) * 2\n",
        "\n",
        "# Find the index of the most confident prediction (highest confidence value)\n",
        "most_confident = np.argmax(confidence)\n",
        "\n",
        "# Find the index of the least confident prediction (lowest confidence value)\n",
        "least_confident = np.argmin(confidence)\n",
        "\n",
        "# Print the probability of the most confident prediction\n",
        "print(f\"Most confident: P={test_probs[most_confident]:.2f}\")\n",
        "\n",
        "# Print the probability of the least confident prediction\n",
        "print(f\"Least confident: P={test_probs[least_confident]:.2f}\")"
      ],
      "metadata": {
        "colab": {
          "base_uri": "https://localhost:8080/"
        },
        "id": "S8MDDpzD8ggx",
        "outputId": "59768d22-2641-4ddc-e62b-6806fea4d08d"
      },
      "execution_count": 8,
      "outputs": [
        {
          "output_type": "stream",
          "name": "stdout",
          "text": [
            "Most confident: P=0.00\n",
            "Least confident: P=0.50\n"
          ]
        }
      ]
    },
    {
      "cell_type": "markdown",
      "source": [
        "# Part 7: Sklearn"
      ],
      "metadata": {
        "id": "35XtFkV2Cu8L"
      }
    },
    {
      "cell_type": "code",
      "source": [
        "# Import scikit-learn's built-in LogisticRegression model\n",
        "from sklearn.linear_model import LogisticRegression as SklearnLogistic\n",
        "\n",
        "# Create an instance of the sklearn logistic regression model\n",
        "# max_iter=1000 ensures the model has enough iterations to converge\n",
        "# random_state=42 makes the results reproducible\n",
        "sklearn_model = SklearnLogistic(max_iter=1000, random_state=42)\n",
        "\n",
        "# Train the sklearn model on the training data\n",
        "sklearn_model.fit(X_train, y_train)\n",
        "\n",
        "# Evaluate accuracy on the training set\n",
        "sklearn_train_acc = sklearn_model.score(X_train, y_train)\n",
        "\n",
        "# Evaluate accuracy on the test set\n",
        "sklearn_test_acc = sklearn_model.score(X_test, y_test)\n",
        "\n",
        "# Print training accuracy\n",
        "print(f\"Sklearn - train: {sklearn_train_acc:.2f}\")\n",
        "\n",
        "# Print test accuracy\n",
        "print(f\"Sklearn -  test: {sklearn_test_acc:.2f}\")"
      ],
      "metadata": {
        "colab": {
          "base_uri": "https://localhost:8080/"
        },
        "id": "f60acJyq8i1c",
        "outputId": "0fbd3cc0-ae2e-433f-f73e-51ba124ae17a"
      },
      "execution_count": 9,
      "outputs": [
        {
          "output_type": "stream",
          "name": "stdout",
          "text": [
            "Sklearn - train: 0.89\n",
            "Sklearn -  test: 0.91\n"
          ]
        }
      ]
    },
    {
      "cell_type": "markdown",
      "source": [
        "------------------------"
      ],
      "metadata": {
        "id": "J2pU4KFbJOpB"
      }
    },
    {
      "cell_type": "markdown",
      "source": [
        "---------------"
      ],
      "metadata": {
        "id": "4-JLX_W4JRdv"
      }
    },
    {
      "cell_type": "markdown",
      "source": [
        "-------------------"
      ],
      "metadata": {
        "id": "c55ni-3JJSne"
      }
    },
    {
      "cell_type": "markdown",
      "source": [
        "\n",
        "# Task 1: Implement prediction threshold analysis\n",
        "\n",
        "Hint: Try different thresholds (0.3, 0.5, 0.7) and see how accuracy changes\n",
        "\n",
        "# Task 2: Add L2 regularization to the model\n",
        "\n",
        "Hint: Add $\\lambda||\\theta||^2$ term to the loss and λθ to the gradient\n",
        "\n",
        "# Task 3: Implement mini-batch gradient descent\n",
        "\n",
        "Hint: Instead of using all samples, randomly select a batch for each update\n",
        "\n"
      ],
      "metadata": {
        "id": "CRsnn5X8JUqz"
      }
    },
    {
      "cell_type": "code",
      "source": [],
      "metadata": {
        "id": "DgGql_R01hGB"
      },
      "execution_count": null,
      "outputs": []
    },
    {
      "cell_type": "markdown",
      "source": [
        "-----------------------------------------"
      ],
      "metadata": {
        "id": "ItIeWnqbJ-ZG"
      }
    }
  ]
}