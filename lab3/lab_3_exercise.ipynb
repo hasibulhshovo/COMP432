{
  "metadata": {
    "kernelspec": {
      "language": "python",
      "display_name": "Python 3",
      "name": "python3"
    },
    "language_info": {
      "name": "python",
      "version": "3.11.13",
      "mimetype": "text/x-python",
      "codemirror_mode": {
        "name": "ipython",
        "version": 3
      },
      "pygments_lexer": "ipython3",
      "nbconvert_exporter": "python",
      "file_extension": ".py"
    },
    "kaggle": {
      "accelerator": "none",
      "dataSources": [],
      "dockerImageVersionId": 31089,
      "isInternetEnabled": true,
      "language": "python",
      "sourceType": "notebook",
      "isGpuEnabled": false
    },
    "colab": {
      "provenance": []
    }
  },
  "nbformat_minor": 0,
  "nbformat": 4,
  "cells": [
    {
      "cell_type": "markdown",
      "metadata": {
        "id": "view-in-github",
        "colab_type": "text"
      },
      "source": [
        "<a href=\"https://colab.research.google.com/github/hasibulhshovo/COMP432/blob/main/lab3/lab_3_exercise.ipynb\" target=\"_parent\"><img src=\"https://colab.research.google.com/assets/colab-badge.svg\" alt=\"Open In Colab\"/></a>"
      ]
    },
    {
      "cell_type": "markdown",
      "source": [
        "# ***LAB 03***"
      ],
      "metadata": {
        "id": "RH_I9L6-d9GF"
      }
    },
    {
      "cell_type": "markdown",
      "source": [
        "### Main points that we will go over\n",
        "* Implement linear classifier $f(X; \\theta, \\theta_0) = sign(\\theta^T X + \\theta_0)$ from mathematical formulation\n",
        "* Code the Random Linear Classifier that tests $k$ where $k$ is random\n",
        "* Build the Perceptron with iterative weight updates when mistakes occur\n",
        "* Visualize decision boundaries and track convergence behavior\n",
        "* Compare both algorithms' performance on training and test data\n",
        "* An Example of the Perceptron through Sklearn\n",
        "\n"
      ],
      "metadata": {
        "id": "OnSq1l7AeErQ"
      }
    },
    {
      "cell_type": "markdown",
      "source": [
        "### Supplementary Visualization\n",
        "For an interactive demonstration of the Perceptron algorithm, [Perceptron Visualizer](https://vinizinho.net/projects/perceptron-viz/)"
      ],
      "metadata": {
        "id": "MhP01y6Bfk8N"
      }
    },
    {
      "cell_type": "markdown",
      "source": [
        "--------------------------------------------------"
      ],
      "metadata": {
        "id": "izmcfGhmeotg"
      }
    },
    {
      "cell_type": "markdown",
      "source": [
        "### The Dataset: Skill Classification\n",
        "We use a synthetic dataset (just for illustration) predicting whether someone becomes \"Highly Skilled\" based on:\n",
        "\n",
        "* **Study_Hours**: Hours spent studying (1-10 hours)\n",
        "* **Num_of_exercises_solved**: Practice exercises completed (30-90 exercises)  \n",
        "* **Target**: Binary classification - Highly Skilled (Yes = +1 / No = -1)\n",
        "* **Size**: 44 samples, linearly separable problem"
      ],
      "metadata": {
        "id": "tQ7Q-sQ1dQ35"
      }
    },
    {
      "cell_type": "markdown",
      "source": [
        "--------------------------------"
      ],
      "metadata": {
        "id": "tGd5KBtRe1q6"
      }
    },
    {
      "cell_type": "code",
      "source": [
        "import numpy as np\n",
        "import pandas as pd\n",
        "import matplotlib.pyplot as plt\n",
        "from sklearn.model_selection import train_test_split\n",
        "import io"
      ],
      "metadata": {
        "trusted": true,
        "execution": {
          "iopub.status.busy": "2025-09-21T22:23:06.562294Z",
          "iopub.execute_input": "2025-09-21T22:23:06.56759Z",
          "iopub.status.idle": "2025-09-21T22:23:06.584553Z",
          "shell.execute_reply.started": "2025-09-21T22:23:06.567505Z",
          "shell.execute_reply": "2025-09-21T22:23:06.583165Z"
        },
        "id": "Na4QR5TlYefT"
      },
      "outputs": [],
      "execution_count": null
    },
    {
      "cell_type": "markdown",
      "source": [
        "# Part 1: A small sample from a Binary Classification Dataset\n"
      ],
      "metadata": {
        "id": "uJtG2LEMYefV"
      }
    },
    {
      "cell_type": "code",
      "source": [
        "# Simple dataset: Student High Grade/ Low Grade based on study hours and attendance\n",
        "data = \"\"\"Study_Hours,Num_of_exercises_solved,Highly_Skilled\n",
        "2,40,No\n",
        "3,50,No\n",
        "4,45,No\n",
        "5,55,No\n",
        "6,65,Yes\n",
        "7,70,Yes\n",
        "8,75,Yes\n",
        "9,80,Yes\n",
        "7,85,Yes\n",
        "8,90,Yes\n",
        "3,70,No\n",
        "4,80,Yes\n",
        "5,60,No\n",
        "6,75,Yes\n",
        "7,65,Yes\n",
        "2,35,No\n",
        "3,40,No\n",
        "4,50,No\n",
        "5,70,Yes\n",
        "6,55,No\n",
        "7,80,Yes\n",
        "8,85,Yes\n",
        "9,90,Yes\n",
        "2,60,No\n",
        "3,65,No\n",
        "4,70,No\n",
        "5,75,Yes\n",
        "6,80,Yes\n",
        "7,60,Yes\n",
        "8,70,Yes\n",
        "9,75,Yes\n",
        "1,30,No\n",
        "2,45,No\n",
        "3,55,No\n",
        "4,65,No\n",
        "5,85,Yes\n",
        "6,90,Yes\n",
        "10,85,Yes\n",
        "9,70,Yes\n",
        "8,65,Yes\n",
        "7,50,No\n",
        "6,45,No\n",
        "5,40,No\n",
        "4,85,Yes\n",
        "3,80,No\"\"\""
      ],
      "metadata": {
        "trusted": true,
        "execution": {
          "iopub.status.busy": "2025-09-21T22:23:09.361639Z",
          "iopub.execute_input": "2025-09-21T22:23:09.362049Z",
          "iopub.status.idle": "2025-09-21T22:23:09.367066Z",
          "shell.execute_reply.started": "2025-09-21T22:23:09.362026Z",
          "shell.execute_reply": "2025-09-21T22:23:09.366286Z"
        },
        "id": "eu5S4_8rYefW"
      },
      "outputs": [],
      "execution_count": null
    },
    {
      "cell_type": "markdown",
      "source": [
        "# Load and prepare the data\n"
      ],
      "metadata": {
        "id": "EgxlTBpGYefX"
      }
    },
    {
      "cell_type": "code",
      "source": [
        "df = pd.read_csv(io.StringIO(data))\n",
        "print(df.head())\n",
        "print(f\"Dataset shape: {df.shape}\")\n",
        "\n",
        "# Convert High/Low to +1/-1 (as per lecture notation)\n",
        "df['Highly_Skilled'] = df['Highly_Skilled'].map({'Yes': 1, 'No': -1})\n"
      ],
      "metadata": {
        "trusted": true,
        "execution": {
          "iopub.status.busy": "2025-09-21T22:23:10.979184Z",
          "iopub.execute_input": "2025-09-21T22:23:10.979574Z",
          "iopub.status.idle": "2025-09-21T22:23:11.026135Z",
          "shell.execute_reply.started": "2025-09-21T22:23:10.979541Z",
          "shell.execute_reply": "2025-09-21T22:23:11.025212Z"
        },
        "colab": {
          "base_uri": "https://localhost:8080/"
        },
        "id": "eUkKk1_bYefX",
        "outputId": "fc60374a-1a49-48e6-9cf1-df8097f94cac"
      },
      "outputs": [
        {
          "output_type": "stream",
          "name": "stdout",
          "text": [
            "   Study_Hours  Num_of_exercises_solved Highly_Skilled\n",
            "0            2                       40             No\n",
            "1            3                       50             No\n",
            "2            4                       45             No\n",
            "3            5                       55             No\n",
            "4            6                       65            Yes\n",
            "Dataset shape: (45, 3)\n"
          ]
        }
      ],
      "execution_count": null
    },
    {
      "cell_type": "code",
      "source": [
        "# Extract features (X) and labels (y)\n",
        "X = df[['Study_Hours', 'Num_of_exercises_solved']].values  # Shape: (N, d) where d=2\n",
        "y = df['Highly_Skilled'].values  # Shape: (N,)\n",
        "\n",
        "# # Normalize features for better performance  (Here, we can comment the normalization lines and re run the below cells to see the effect of normalization)\n",
        "# Calculate the mean of each feature (column)\n",
        "X_mean = X.mean(axis=0)\n",
        "\n",
        "# Calculate the standard deviation of each feature (column)\n",
        "X_std = X.std(axis=0)"
      ],
      "metadata": {
        "trusted": true,
        "execution": {
          "iopub.status.busy": "2025-09-21T22:23:12.130146Z",
          "iopub.execute_input": "2025-09-21T22:23:12.130822Z",
          "iopub.status.idle": "2025-09-21T22:23:12.1422Z",
          "shell.execute_reply.started": "2025-09-21T22:23:12.130774Z",
          "shell.execute_reply": "2025-09-21T22:23:12.141157Z"
        },
        "colab": {
          "base_uri": "https://localhost:8080/"
        },
        "id": "FRfB0oHsYefZ",
        "outputId": "4552e1b1-48d2-4fff-a133-30064377a081"
      },
      "outputs": [
        {
          "output_type": "stream",
          "name": "stdout",
          "text": [
            "Feature dimensions: (45, 2)\n",
            "Number of samples: 45\n",
            "Number of positive samples: 24\n",
            "Number of negative samples: 21\n"
          ]
        }
      ],
      "execution_count": null
    },
    {
      "cell_type": "markdown",
      "source": [
        "**What is Normalization?**\n",
        "\n",
        "Normalization is a data preprocessing technique that scales numerical features in a dataset to a standard range. The most common type, Z-score normalization (or standardization), rescales the data so it has a mean of 0 and a standard deviation of 1.\n",
        "\n",
        "**Why is Normalization Needed?**\n",
        "\n",
        "Normalization is crucial for many machine learning algorithms because it ensures that all features contribute equally to the model's performance, preventing features with large values from dominating those with smaller values.\n",
        "\n",
        "**Key reasons for normalization include:**\n",
        "\n",
        "1. **Equal Contribution:** Algorithms sensitive to feature magnitudes, like Support Vector Machines (SVMs), K-Nearest Neighbors (KNN), and Principal Component Analysis (PCA), perform much better when features are on a similar scale.\n",
        "2. **Faster Convergence:** For optimization algorithms like gradient descent, used to train models such as neural networks and linear regression, normalization helps the algorithm converge to a solution more quickly. It reshapes the cost function's surface, allowing for more direct steps toward the minimum.\n",
        "3. **Prevents Numerical Instability:** It helps avoid numerical issues (like underflow or overflow) that can occur when dealing with extremely large or small numbers in calculations."
      ],
      "metadata": {
        "id": "XTvYUdDNOPY8"
      }
    },
    {
      "cell_type": "code",
      "source": [
        "# Apply the normalization formula: (X - mean) / standard_deviation\n",
        "X_normalized = (X - X_mean) / X_std\n",
        "\n",
        "print(f\"Feature dimensions: {X_normalized.shape}\")\n",
        "print(f\"Number of samples: {len(y)}\")\n",
        "print(f\"Number of positive samples: {(y == 1).sum()}\")\n",
        "print(f\"Number of negative samples: {(y == -1).sum()}\")"
      ],
      "metadata": {
        "id": "DFrPCK5sPDGw"
      },
      "execution_count": null,
      "outputs": []
    },
    {
      "cell_type": "markdown",
      "source": [
        "# Part 2: Implement Linear Classifier"
      ],
      "metadata": {
        "id": "Xfw3xiP4YefZ"
      }
    },
    {
      "cell_type": "markdown",
      "source": [
        "### Linear Classifier\n",
        "\n",
        "A **linear classifier** is a machine learning model that makes a classification decision by combining input features using a linear function. Essentially, it finds a straight line (or a flat plane in higher dimensions) to separate different classes of data.\n",
        "\n",
        "The decision is based on a simple rule: If the result of the linear function is positive, the model predicts one class. If it's negative, it predicts the other.\n",
        "\n",
        "This separating line is called the **decision boundary**. The model learns the optimal position of this line from the data during training.\n",
        "\n",
        "The linear classifier is defined as:\n",
        "\n",
        "$$f(X; \\theta, \\theta_0) = sign(\\theta^T X + \\theta_0)$$\n",
        "\n",
        "where:\n",
        "* Returns **+1** if $\\theta^T X + \\theta_0 > 0$\n",
        "* Returns **-1** if $\\theta^T X + \\theta_0 \\leq 0$"
      ],
      "metadata": {
        "id": "hNqYeTUqYefa"
      }
    },
    {
      "cell_type": "code",
      "source": [
        "class LinearClassifier:\n",
        "    # The constructor initializes the model's parameters.\n",
        "    # It takes the number of input features, d, as an argument.\n",
        "    def __init__(self, d):\n",
        "        # Initialize the weight vector 'theta' with random values.\n",
        "        # The shape of theta is (d,), where d is the number of features.\n",
        "        # This vector represents the weights assigned to each feature.\n",
        "        self.theta = np.random.randn(d)  # θ ∈ R^d (column vector)\n",
        "        # Initialize the bias term 'theta0' with a random value.\n",
        "        # The bias allows the decision boundary to be shifted,\n",
        "        # providing more flexibility to the model.\n",
        "        self.theta0 = np.random.randn()  # θnode ∈ R (bias/intercept)\n",
        "\n",
        "    # The predict method makes a prediction for a given set of data points.\n",
        "    # It takes the feature matrix X as input.\n",
        "    def predict(self, X):\n",
        "        # Calculate the linear combination of features and weights: X.dot(theta) + theta0.\n",
        "        # X.dot(self.theta) performs the dot product, summing the products of each feature with its corresponding weight.\n",
        "        # The np.sign() function then returns +1 if the result is positive,\n",
        "        # -1 if it's negative, and 0 if it's zero. This effectivelyclassifies the data into one of two classes.\n",
        "      return np.sign(X.dot(self.theta) + self.theta0)\n",
        "\n",
        "    # The compute_error method calculates the classification error (0-1 loss).\n",
        "    # It measures the fraction of misclassified samples.\n",
        "    # It takes the feature matrix X and the true labels y as input.\n",
        "    def compute_error(self, X, y):\n",
        "        # Generate predictions for the given data.\n",
        "        predictions = self.predict(X)\n",
        "\n",
        "        # Calculate the error by finding the mean of all instances where\n",
        "        # the prediction does not match the true label.\n",
        "        # (predictions != y) creates a boolean array where True indicates a misclassification.\n",
        "        # np.mean() then calculates the fraction of True values (which are treated as 1s).\n",
        "        error = np.mean(predictions != y)\n",
        "        return error\n",
        "\n",
        "# Create an instance of the LinearClassifier with 2 features.\n",
        "clf = LinearClassifier(d=2)\n",
        "\n",
        "# Make predictions on the normalized data.\n",
        "predictions = clf.predict(X_normalized)\n",
        "\n",
        "# Compute the classification error using the normalized data and true labels.\n",
        "error = clf.compute_error(X_normalized, y)\n",
        "\n",
        "# Print the calculated error and accuracy.\n",
        "# Accuracy is simply 1 minus the error.\n",
        "print(\"Error: \", error)\n",
        "print(\"Accuracy: \", 1 - error)"
      ],
      "metadata": {
        "trusted": true,
        "execution": {
          "iopub.status.busy": "2025-09-21T22:23:13.997139Z",
          "iopub.execute_input": "2025-09-21T22:23:13.997452Z",
          "iopub.status.idle": "2025-09-21T22:23:14.008893Z",
          "shell.execute_reply.started": "2025-09-21T22:23:13.997428Z",
          "shell.execute_reply": "2025-09-21T22:23:14.007963Z"
        },
        "colab": {
          "base_uri": "https://localhost:8080/"
        },
        "id": "mraNUveUYefa",
        "outputId": "31b64d16-b730-4166-fcd2-7260204916d7"
      },
      "outputs": [
        {
          "output_type": "stream",
          "name": "stdout",
          "text": [
            "Error:  0.4666666666666667\n",
            "Accuracy:  0.5333333333333333\n"
          ]
        }
      ],
      "execution_count": null
    },
    {
      "cell_type": "markdown",
      "source": [
        "# Part 3: Implement Random Linear Classifier Algorithm\n"
      ],
      "metadata": {
        "id": "CyI1Du5-Yefb"
      }
    },
    {
      "cell_type": "markdown",
      "source": [
        "A **Random Linear Classifier** is a simple, non-learning-based classification model that relies on chance. It's not a standard, practical algorithm but rather a pedagogical tool to demonstrate the role of weights and the concept of a decision boundary before introducing more complex, training-based methods.\n",
        "\n",
        "Instead of an optimization algorithm (like gradient descent) to find the best separating line, it generates a specified number of linear classifiers, each with randomly chosen weights and a random bias. It then selects the one that performs the best on the training data. This process is a form of brute-force search."
      ],
      "metadata": {
        "id": "OBHzgIVeXKVj"
      }
    },
    {
      "cell_type": "code",
      "source": [
        "# Define a function to find the best linear classifier out of many random ones.\n",
        "def random_linear_classifier(X_train, y_train, k=100):\n",
        "    # This function generates 'k' random linear classifiers and\n",
        "    # returns the one with the lowest training error.\n",
        "    # It demonstrates a simple \"brute-force\" method for finding a good model.\n",
        "\n",
        "    # Get the number of features (d) from the training data.\n",
        "    # X_train.shape[1] gives the number of columns.\n",
        "    d = X_train.shape[1]  # Feature dimension\n",
        "\n",
        "    # Initialize variables to keep track of the best classifier found so far.\n",
        "    # 'best_error' is set to infinity so that the first classifier's error will always be lower.\n",
        "    best_error = float('inf')\n",
        "    best_classifier = None\n",
        "    # 'errors' list will store the error of each classifier for analysis.\n",
        "    errors = []\n",
        "\n",
        "    print(f\"\\nTrying {k} random linear classifiers \")\n",
        "\n",
        "    # Loop 'k' times to create and evaluate 'k' different classifiers.\n",
        "    for i in range(k):\n",
        "        # 1. Create a new LinearClassifier with random weights and bias.\n",
        "        clf = LinearClassifier(d)\n",
        "\n",
        "        # 2. Compute the training error for this new, random classifier.\n",
        "        error = clf.compute_error(X_train, y_train)\n",
        "        errors.append(error)\n",
        "\n",
        "        # 3. Check if this classifier is better than the best one found so far.\n",
        "        if error < best_error:\n",
        "            # If so, update the 'best_error' and store a reference to this\n",
        "            # new 'best_classifier' object.\n",
        "            best_error = error\n",
        "            best_classifier = clf\n",
        "            print(f\"  Iteration {i+1}: New best error = {best_error:.3f}\")\n",
        "\n",
        "    # 4. Return the best classifier, its error, and the list of all errors.\n",
        "    return best_classifier, best_error, errors\n"
      ],
      "metadata": {
        "trusted": true,
        "execution": {
          "iopub.status.busy": "2025-09-21T22:23:16.036799Z",
          "iopub.execute_input": "2025-09-21T22:23:16.037151Z",
          "iopub.status.idle": "2025-09-21T22:23:16.044778Z",
          "shell.execute_reply.started": "2025-09-21T22:23:16.037124Z",
          "shell.execute_reply": "2025-09-21T22:23:16.04377Z"
        },
        "id": "HE0yjC2jYefb"
      },
      "outputs": [],
      "execution_count": null
    },
    {
      "cell_type": "markdown",
      "source": [
        "# Part 4: Train and Evaluate\n"
      ],
      "metadata": {
        "id": "5EEbJIUVYefc"
      }
    },
    {
      "cell_type": "markdown",
      "source": [
        "Split data into training and test sets\n"
      ],
      "metadata": {
        "id": "W27tUEBxYefc"
      }
    },
    {
      "cell_type": "code",
      "source": [
        "X_train, X_test, y_train, y_test = train_test_split(\n",
        "    X_normalized, y, test_size=0.3, random_state=42\n",
        ")\n",
        "print(f\"Training samples: {len(X_train)}\")\n",
        "print(f\"Test samples: {len(X_test)}\")"
      ],
      "metadata": {
        "trusted": true,
        "execution": {
          "iopub.status.busy": "2025-09-21T22:23:17.832411Z",
          "iopub.execute_input": "2025-09-21T22:23:17.833105Z",
          "iopub.status.idle": "2025-09-21T22:23:17.843372Z",
          "shell.execute_reply.started": "2025-09-21T22:23:17.833076Z",
          "shell.execute_reply": "2025-09-21T22:23:17.842443Z"
        },
        "colab": {
          "base_uri": "https://localhost:8080/"
        },
        "id": "eiOIr5V1Yefc",
        "outputId": "5588e39e-2079-433e-d9ca-d6b3c56f25ff"
      },
      "outputs": [
        {
          "output_type": "stream",
          "name": "stdout",
          "text": [
            "Training samples: 31\n",
            "Test samples: 14\n"
          ]
        }
      ],
      "execution_count": null
    },
    {
      "cell_type": "markdown",
      "source": [
        "Try different values of $k$ (hyperparameter)\n",
        "\n",
        "\n"
      ],
      "metadata": {
        "id": "ZXIT5ReuYefd"
      }
    },
    {
      "cell_type": "code",
      "source": [
        "# Try different values of k (hyperparameter)\n",
        "# 'k' is a hyperparameter for our random classifier model.\n",
        "# A hyperparameter is a setting that controls the learning process itself.\n",
        "# In this case, 'k' determines how many random classifiers we generate\n",
        "# to find the best one.\n",
        "k_values = [10, 50, 100, 500]\n",
        "results = []\n",
        "\n",
        "# Initialize variables to save the single best classifier found\n",
        "# across all values of k. We'll use the test error as the ultimate\n",
        "# measure of performance.\n",
        "overall_best_clf = None\n",
        "overall_best_error = float('inf')\n",
        "overall_best_k = 0 # To store the k value that produced the best classifier\n",
        "\n",
        "# Loop through each 'k' value to evaluate the model's performance\n",
        "# as we increase the number of random trials.\n",
        "for k in k_values:\n",
        "    # 1. Train the model using the current k value.\n",
        "    # The 'random_linear_classifier' function returns the best classifier\n",
        "    # found on the training data, its training error, and a list of all errors.\n",
        "    best_clf, train_error, all_errors = random_linear_classifier(X_train, y_train, k)\n",
        "\n",
        "    # 2. Evaluate the best classifier on the unseen test data.\n",
        "    # This gives us a more realistic measure of the model's performance\n",
        "    # and its ability to generalize.\n",
        "    test_error = best_clf.compute_error(X_test, y_test)\n",
        "\n",
        "    # 3. Check if this classifier is the best one we've seen so far.\n",
        "    # We compare based on the 'test_error' because that's our goal:\n",
        "    # to find a model that performs well on new data.\n",
        "    if test_error < overall_best_error:\n",
        "        overall_best_error = test_error\n",
        "        overall_best_clf = best_clf\n",
        "        overall_best_k = k\n",
        "\n",
        "    # 4. Store the results for the current k value in a dictionary.\n",
        "    results.append({\n",
        "        'k': k,\n",
        "        'train_error': train_error,\n",
        "        'test_error': test_error,\n",
        "        'train_acc': (1 - train_error) * 100,\n",
        "        'test_acc': (1 - test_error) * 100\n",
        "    })\n",
        "\n",
        "    # 5. Print the results to the console for real-time monitoring.\n",
        "    print(f\"\\nk={k}:\")\n",
        "    print(f\"  Best training error: {train_error:.3f}\")\n",
        "    print(f\"  Test error: {test_error:.3f}\")\n",
        "    print(f\"  Test accuracy: {(1 - test_error) * 100:.1f}%\")"
      ],
      "metadata": {
        "trusted": true,
        "execution": {
          "iopub.status.busy": "2025-09-21T22:23:19.349692Z",
          "iopub.execute_input": "2025-09-21T22:23:19.350031Z",
          "iopub.status.idle": "2025-09-21T22:23:19.391308Z",
          "shell.execute_reply.started": "2025-09-21T22:23:19.350008Z",
          "shell.execute_reply": "2025-09-21T22:23:19.390538Z"
        },
        "colab": {
          "base_uri": "https://localhost:8080/"
        },
        "id": "gF0HPcaFYefd",
        "outputId": "c65dca3b-ae74-4f2c-ada4-e6662d3cdfc5"
      },
      "outputs": [
        {
          "output_type": "stream",
          "name": "stdout",
          "text": [
            "\n",
            "Trying 10 random linear classifiers \n",
            "  Iteration 1: New best error = 0.710\n",
            "  Iteration 2: New best error = 0.452\n",
            "  Iteration 3: New best error = 0.065\n",
            "\n",
            "k=10:\n",
            "  Best training error: 0.065\n",
            "  Test error: 0.071\n",
            "  Test accuracy: 92.9%\n",
            "\n",
            "Trying 50 random linear classifiers \n",
            "  Iteration 1: New best error = 0.452\n",
            "  Iteration 2: New best error = 0.161\n",
            "  Iteration 10: New best error = 0.032\n",
            "\n",
            "k=50:\n",
            "  Best training error: 0.032\n",
            "  Test error: 0.071\n",
            "  Test accuracy: 92.9%\n",
            "\n",
            "Trying 100 random linear classifiers \n",
            "  Iteration 1: New best error = 0.742\n",
            "  Iteration 2: New best error = 0.419\n",
            "  Iteration 3: New best error = 0.065\n",
            "  Iteration 6: New best error = 0.000\n",
            "\n",
            "k=100:\n",
            "  Best training error: 0.000\n",
            "  Test error: 0.000\n",
            "  Test accuracy: 100.0%\n",
            "\n",
            "Trying 500 random linear classifiers \n",
            "  Iteration 1: New best error = 0.548\n",
            "  Iteration 2: New best error = 0.419\n",
            "  Iteration 5: New best error = 0.161\n",
            "  Iteration 7: New best error = 0.097\n",
            "  Iteration 32: New best error = 0.032\n",
            "  Iteration 203: New best error = 0.000\n",
            "\n",
            "k=500:\n",
            "  Best training error: 0.000\n",
            "  Test error: 0.000\n",
            "  Test accuracy: 100.0%\n"
          ]
        }
      ],
      "execution_count": null
    },
    {
      "cell_type": "markdown",
      "source": [
        "# Part 5: Visualizing the results"
      ],
      "metadata": {
        "id": "OGAIWyB4Yefd"
      }
    },
    {
      "cell_type": "code",
      "source": [
        "# Display results\n",
        "results_df = pd.DataFrame(results)\n",
        "print(\"Results Summary:\")\n",
        "print(results_df)"
      ],
      "metadata": {
        "trusted": true,
        "execution": {
          "iopub.status.busy": "2025-09-21T22:23:20.632259Z",
          "iopub.execute_input": "2025-09-21T22:23:20.632571Z",
          "iopub.status.idle": "2025-09-21T22:23:20.643082Z",
          "shell.execute_reply.started": "2025-09-21T22:23:20.632547Z",
          "shell.execute_reply": "2025-09-21T22:23:20.641806Z"
        },
        "colab": {
          "base_uri": "https://localhost:8080/"
        },
        "id": "OnYd7GcsYefd",
        "outputId": "8d7d09f4-b3fc-4c4f-c091-3a02b60053b2"
      },
      "outputs": [
        {
          "output_type": "stream",
          "name": "stdout",
          "text": [
            "Results Summary:\n",
            "     k  train_error  test_error   train_acc    test_acc\n",
            "0   10     0.064516    0.071429   93.548387   92.857143\n",
            "1   50     0.032258    0.071429   96.774194   92.857143\n",
            "2  100     0.000000    0.000000  100.000000  100.000000\n",
            "3  500     0.000000    0.000000  100.000000  100.000000\n"
          ]
        }
      ],
      "execution_count": null
    },
    {
      "cell_type": "code",
      "source": [
        "# Plot 1: Error vs k\n",
        "plt.figure(figsize=(8, 5))\n",
        "plt.plot(results_df['k'], results_df['train_error'], 'b-o', label='Training')\n",
        "plt.plot(results_df['k'], results_df['test_error'], 'r-o', label='Test')\n",
        "plt.xlabel('k')\n",
        "plt.ylabel('Error Rate')\n",
        "plt.title('Error vs k')\n",
        "plt.legend()\n",
        "plt.grid(alpha=0.3)\n",
        "plt.show()\n"
      ],
      "metadata": {
        "trusted": true,
        "execution": {
          "iopub.status.busy": "2025-09-21T22:23:20.883498Z",
          "iopub.execute_input": "2025-09-21T22:23:20.883857Z",
          "iopub.status.idle": "2025-09-21T22:23:21.152383Z",
          "shell.execute_reply.started": "2025-09-21T22:23:20.883831Z",
          "shell.execute_reply": "2025-09-21T22:23:21.151251Z"
        },
        "colab": {
          "base_uri": "https://localhost:8080/",
          "height": 487
        },
        "id": "Js9AycfmYefd",
        "outputId": "08ff0d98-d23e-471d-d6d1-4b3d82de9b34"
      },
      "outputs": [
        {
          "output_type": "display_data",
          "data": {
            "text/plain": [
              "<Figure size 800x500 with 1 Axes>"
            ],
            "image/png": "[encoded data removed]"
          },
          "metadata": {}
        }
      ],
      "execution_count": null
    },
    {
      "cell_type": "code",
      "source": [
        "\n",
        "# Plot 2: Decision boundary\n",
        "plt.figure(figsize=(8, 6))\n",
        "plt.scatter(X_normalized[y==1, 0], X_normalized[y==1, 1], c='blue', label='High')\n",
        "plt.scatter(X_normalized[y==-1, 0], X_normalized[y==-1, 1], c='red', label='Not High')\n",
        "\n",
        "# Draw decision boundary line\n",
        "x_plot = np.array([-2, 2])\n",
        "y_plot = -(overall_best_clf.theta[0] * x_plot + overall_best_clf.theta0) / overall_best_clf.theta[1]\n",
        "plt.plot(x_plot, y_plot, 'k--', linewidth=2)\n",
        "\n",
        "plt.xlabel('Study Hours')\n",
        "plt.ylabel('Attendance %')\n",
        "plt.title(f'Decision Boundary (k={overall_best_k})')\n",
        "plt.legend()\n",
        "plt.grid(alpha=0.3)\n",
        "plt.show()"
      ],
      "metadata": {
        "trusted": true,
        "execution": {
          "iopub.status.busy": "2025-09-21T22:23:22.092815Z",
          "iopub.execute_input": "2025-09-21T22:23:22.093221Z",
          "iopub.status.idle": "2025-09-21T22:23:22.841067Z",
          "shell.execute_reply.started": "2025-09-21T22:23:22.093189Z",
          "shell.execute_reply": "2025-09-21T22:23:22.839964Z"
        },
        "colab": {
          "base_uri": "https://localhost:8080/",
          "height": 564
        },
        "id": "VHx6OoULYefe",
        "outputId": "7096cbcb-2d25-4087-8ca3-67bb985fea46"
      },
      "outputs": [
        {
          "output_type": "display_data",
          "data": {
            "text/plain": [
              "<Figure size 800x600 with 1 Axes>"
            ],
            "image/png": "[encoded data removed]"
          },
          "metadata": {}
        }
      ],
      "execution_count": null
    },
    {
      "cell_type": "code",
      "source": [
        "# Print final model parameters for inspection\n",
        "# These are the weights (theta) and bias (theta0) of the single best\n",
        "# classifier that was found after trying different values of k.\n",
        "# These parameters define the final decision boundary of the model.\n",
        "print(f\"\\nFinal Model Parameters:\")\n",
        "print(f\"θ (weights): {overall_best_clf.theta}\")\n",
        "print(f\"θ0 (bias): {overall_best_clf.theta0:.3f}\")\n",
        "\n",
        "# Compute decision boundary equation\n",
        "# This is the equation of the straight line that separates the two classes.\n",
        "# The formula is: theta[0]*x1 + theta[1]*x2 + theta0 = 0\n",
        "print(f\"\\nDecision Boundary Equation:\")\n",
        "print(f\"{overall_best_clf.theta[0]:.3f} * x1 + {overall_best_clf.theta[1]:.3f} * x2 + {overall_best_clf.theta0:.3f} = 0\")"
      ],
      "metadata": {
        "trusted": true,
        "execution": {
          "iopub.status.busy": "2025-09-21T22:23:23.32344Z",
          "iopub.execute_input": "2025-09-21T22:23:23.324149Z",
          "iopub.status.idle": "2025-09-21T22:23:23.330769Z",
          "shell.execute_reply.started": "2025-09-21T22:23:23.324119Z",
          "shell.execute_reply": "2025-09-21T22:23:23.329829Z"
        },
        "colab": {
          "base_uri": "https://localhost:8080/"
        },
        "id": "RZqxxc_5Yefe",
        "outputId": "8d5cba60-e87c-4390-e89a-3a0efe6fcbd2"
      },
      "outputs": [
        {
          "output_type": "stream",
          "name": "stdout",
          "text": [
            "\n",
            "Final Model Parameters:\n",
            "θ (weights): [1.27634472 1.1511519 ]\n",
            "θ0 (bias): 0.006\n",
            "\n",
            "Decision Boundary Equation:\n",
            "1.276 * x1 + 1.151 * x2 + 0.006 = 0\n"
          ]
        }
      ],
      "execution_count": null
    },
    {
      "cell_type": "markdown",
      "source": [
        "# The Perceptron\n",
        "\n",
        "### What is Perceptron?\n",
        "A **Perceptron** is a fundamental algorithm for binary classification. It's a type of linear classifier that learns the optimal separating hyperplane (a line in 2D) to divide two classes of data.\n",
        "\n",
        "### Why Do We Need It?\n",
        "We need the Perceptron because it provides a simple and intuitive way to train a linear classifier. Unlike the \"random\" approach of guessing a good line, the Perceptron has a specific learning algorithm. It starts with a random line and then systematically adjusts its position and orientation every time it makes a mistake. This process guarantees that if the data is linearly separable, the Perceptron will find a perfect separating line in a finite number of steps. It's the simplest example of a learning algorithm that adjusts its parameters based on prediction errors.\n",
        "\n",
        "### How it Works:\n",
        "**Start:** The Perceptron begins with a simple, random rule. For example, \"An email is spam if it contains more than 10 exclamation marks and 5 capital letters.\"\n",
        "\n",
        "**Make a Prediction:** The algorithm then takes the first email from your inbox, checks these two features, and makes a prediction (spam or not spam).\n",
        "\n",
        "**Check and Learn:**\n",
        "\n",
        "If the prediction is correct, the Perceptron does nothing and moves to the next email.\n",
        "\n",
        "If the prediction is wrong (e.g., it predicted a spam email was not spam), it adjusts its rule slightly to better classify that specific email. It might increase the weight on \"exclamation marks\" to be more sensitive to them in the future.\n",
        "\n",
        "**Repeat:** This process repeats for thousands of emails. With each mistake, the Perceptron's rule becomes more refined, learning from every error.\n",
        "\n",
        "After processing a large number of emails, the Perceptron will have found a much better rule (a separating line) that accurately filters spam. The core idea is that it learns by correcting its own mistakes, making it a true learning algorithm, unlike the \"guess and check\" method of the random classifier."
      ],
      "metadata": {
        "id": "W8IYwfwwYefe"
      }
    },
    {
      "cell_type": "code",
      "source": [
        "# The Perceptron class implements the Perceptron learning algorithm.\n",
        "# This model finds a linear decision boundary for binary classification.\n",
        "class Perceptron:\n",
        "    def __init__(self):\n",
        "        # Initialize weights (theta) and bias (theta0) to None.\n",
        "        # They will be set to zeros when the fit method is called.\n",
        "        self.theta = None\n",
        "        self.theta0 = None\n",
        "        # The history list stores the model's state at each epoch for analysis.\n",
        "        self.history = []\n",
        "\n",
        "    def fit(self, X, y, epochs=50): # training function\n",
        "        # Get the number of samples (N) and features (d).\n",
        "        N, d = X.shape\n",
        "        # Initialize weights and bias to zeros.\n",
        "        # This ensures a reproducible starting point for training.\n",
        "        self.theta = np.zeros(d)\n",
        "        self.theta0 = 0\n",
        "\n",
        "        # The main training loop. It iterates through the dataset 'epochs' times.\n",
        "        for epoch in range(epochs):\n",
        "            mistakes = 0\n",
        "            # Loop through each data point in the training set.\n",
        "            for i in range(N):\n",
        "                # The core of the Perceptron algorithm: check for misclassification.\n",
        "                # The condition `y[i] * (X[i].dot(self.theta) + self.theta0) <= 0`\n",
        "                # checks if the sign of the prediction (theta^T*x + theta0)\n",
        "                # is different from the true label y[i]. If they have opposite\n",
        "                # signs (or the prediction is zero), it's a mistake.\n",
        "                if y[i] * (X[i].dot(self.theta) + self.theta0) <= 0:\n",
        "                    # If a mistake is found, update the weights and bias.\n",
        "                    # The update rule adds the misclassified point's features\n",
        "                    # (scaled by its label) to the weights. This moves the\n",
        "                    # decision boundary closer to correctly classifying the\n",
        "                    # misclassified point.\n",
        "                    self.theta += y[i] * X[i]\n",
        "                    self.theta0 += y[i]\n",
        "                    mistakes += 1\n",
        "\n",
        "            # Save the state of the model at the end of the current epoch.\n",
        "            self.history.append({\n",
        "                'epoch': epoch,\n",
        "                'theta': self.theta.copy(),\n",
        "                'theta0': self.theta0,\n",
        "                'mistakes': mistakes\n",
        "            })\n",
        "\n",
        "            # If no mistakes were made in an entire pass through the data,\n",
        "            # the algorithm has converged, and we can stop training early.\n",
        "            if mistakes == 0:\n",
        "                print(f\"Converged at epoch {epoch + 1}\")\n",
        "                break\n",
        "\n",
        "        return self\n",
        "\n",
        "    def predict(self, X):\n",
        "        # Make a prediction by applying the sign function to the linear combination.\n",
        "        return np.sign(X.dot(self.theta) + self.theta0)\n",
        "\n",
        "    def score(self, X, y):\n",
        "        # Compute the accuracy by comparing predictions to true labels.\n",
        "        # It returns the fraction of correctly classified samples.\n",
        "        return np.mean(self.predict(X) == y)\n",
        "\n",
        "# Create an instance of the Perceptron model.\n",
        "perceptron = Perceptron()\n",
        "# Train the model on the training data for a maximum of 30 epochs.\n",
        "perceptron.fit(X_train, y_train, epochs=30)\n",
        "\n",
        "# Print the final accuracy on both the training and test sets.\n",
        "print(f\"Training accuracy: {perceptron.score(X_train, y_train):.2%}\")\n",
        "print(f\"Test accuracy: {perceptron.score(X_test, y_test):.2%}\")"
      ],
      "metadata": {
        "trusted": true,
        "execution": {
          "iopub.status.busy": "2025-09-21T22:23:24.910615Z",
          "iopub.execute_input": "2025-09-21T22:23:24.910959Z",
          "iopub.status.idle": "2025-09-21T22:23:24.923848Z",
          "shell.execute_reply.started": "2025-09-21T22:23:24.910935Z",
          "shell.execute_reply": "2025-09-21T22:23:24.922869Z"
        },
        "colab": {
          "base_uri": "https://localhost:8080/"
        },
        "id": "FybHgBdKYefe",
        "outputId": "f0016bfc-6f18-451c-a9f5-53fe9fb595e8"
      },
      "outputs": [
        {
          "output_type": "stream",
          "name": "stdout",
          "text": [
            "Converged at epoch 9\n",
            "Training accuracy: 100.00%\n",
            "Test accuracy: 100.00%\n"
          ]
        }
      ],
      "execution_count": null
    },
    {
      "cell_type": "markdown",
      "source": [
        "# Perceptron Learning Visualization"
      ],
      "metadata": {
        "id": "6IYb74jPagSG"
      }
    },
    {
      "cell_type": "code",
      "source": [
        "# Show 4 stages of the Perceptron learning process\n",
        "# We select key epochs to visualize the decision boundary's evolution:\n",
        "# initial state (epoch 0), early learning, middle, and the final state.\n",
        "epochs = [0, 2, 5, -1]\n",
        "fig, axes = plt.subplots(1, 4, figsize=(16, 4)) # Create a 1x4 subplot grid\n",
        "\n",
        "# Loop through the selected epochs to plot each stage.\n",
        "for i, ep in enumerate(epochs):\n",
        "    ax = axes[i]\n",
        "    # Get the model's parameters (theta and theta0) at this specific epoch.\n",
        "    # The -1 index gets the last epoch, representing the final state.\n",
        "    state = perceptron.history[ep]\n",
        "\n",
        "    # Plot the data points\n",
        "    # Plot points with a label of +1 in blue.\n",
        "    ax.scatter(X_normalized[y==1, 0], X_normalized[y==1, 1], c='blue')\n",
        "    # Plot points with a label of -1 in red.\n",
        "    ax.scatter(X_normalized[y==-1, 0], X_normalized[y==-1, 1], c='red')\n",
        "\n",
        "    # Plot the decision boundary line\n",
        "    # The equation of the line is derived from the linear classifier equation:\n",
        "    # theta[0]*x1 + theta[1]*x2 + theta0 = 0\n",
        "    # We solve for x2 (y_line) to plot it:\n",
        "    # x2 = -(theta[0]*x1 + theta0) / theta[1]\n",
        "    x = np.array([-2, 2])\n",
        "    y_line = -(state['theta'][0] * x + state['theta0']) / state['theta'][1]\n",
        "    ax.plot(x, y_line, 'k--', lw=2)\n",
        "\n",
        "    # Set plot titles and grid for clarity\n",
        "    ax.set_title(f\"Epoch {state['epoch']+1}\")\n",
        "    ax.grid(alpha=0.3)\n",
        "\n",
        "# Add a main title for the entire figure and adjust layout.\n",
        "plt.suptitle('Perceptron Learning Process')\n",
        "plt.tight_layout()\n",
        "plt.show()"
      ],
      "metadata": {
        "trusted": true,
        "execution": {
          "iopub.status.busy": "2025-09-21T22:23:26.156609Z",
          "iopub.execute_input": "2025-09-21T22:23:26.156933Z",
          "iopub.status.idle": "2025-09-21T22:23:26.900838Z",
          "shell.execute_reply.started": "2025-09-21T22:23:26.15691Z",
          "shell.execute_reply": "2025-09-21T22:23:26.899848Z"
        },
        "colab": {
          "base_uri": "https://localhost:8080/",
          "height": 413
        },
        "id": "lbz5RKRtYeff",
        "outputId": "bfbcb22c-70dd-4b4a-9bac-f702621b9648"
      },
      "outputs": [
        {
          "output_type": "display_data",
          "data": {
            "text/plain": [
              "<Figure size 1600x400 with 4 Axes>"
            ],
            "image/png": "[encoded data removed]"
          },
          "metadata": {}
        }
      ],
      "execution_count": null
    },
    {
      "cell_type": "markdown",
      "source": [
        "# Plot Learning Curve\n"
      ],
      "metadata": {
        "id": "EPzLwKZbaXwn"
      }
    },
    {
      "cell_type": "code",
      "source": [
        "# Create a figure for the plot\n",
        "plt.figure(figsize=(8, 4))\n",
        "\n",
        "# Extract the number of mistakes from the training history for each epoch\n",
        "mistakes_per_epoch = [h['mistakes'] for h in perceptron.history]\n",
        "\n",
        "# Plot the number of mistakes against the epoch number\n",
        "plt.plot(range(1, len(mistakes_per_epoch)+1), mistakes_per_epoch, 'b-o')\n",
        "\n",
        "# Add labels and title for clarity\n",
        "plt.xlabel('Epoch')\n",
        "plt.ylabel('Number of Mistakes')\n",
        "plt.title('Perceptron Convergence')\n",
        "\n",
        "# Add a grid for better readability and display the plot\n",
        "plt.grid(alpha=0.3)\n",
        "plt.show()"
      ],
      "metadata": {
        "trusted": true,
        "execution": {
          "iopub.status.busy": "2025-09-21T22:23:29.883543Z",
          "iopub.execute_input": "2025-09-21T22:23:29.883863Z",
          "iopub.status.idle": "2025-09-21T22:23:30.097273Z",
          "shell.execute_reply.started": "2025-09-21T22:23:29.88384Z",
          "shell.execute_reply": "2025-09-21T22:23:30.096353Z"
        },
        "colab": {
          "base_uri": "https://localhost:8080/",
          "height": 410
        },
        "id": "O0qPEnrzYeff",
        "outputId": "7c44997b-2d3d-4666-ccbb-743c183b2790"
      },
      "outputs": [
        {
          "output_type": "display_data",
          "data": {
            "text/plain": [
              "<Figure size 800x400 with 1 Axes>"
            ],
            "image/png": "[encoded data removed]"
          },
          "metadata": {}
        }
      ],
      "execution_count": null
    },
    {
      "cell_type": "markdown",
      "source": [
        "# For our final part, we will look at a real world example. Will also use sklearn directly"
      ],
      "metadata": {
        "id": "X5-JsSf1gu7y"
      }
    },
    {
      "cell_type": "code",
      "source": [
        "# Import necessary libraries\n",
        "from sklearn.linear_model import Perceptron\n",
        "from sklearn.datasets import load_breast_cancer\n",
        "from sklearn.model_selection import train_test_split\n",
        "from sklearn.preprocessing import StandardScaler\n",
        "import numpy as np\n",
        "\n",
        "# Load the breast cancer dataset.\n",
        "# The `return_X_y=True` argument returns the features (X) and labels (y) separately.\n",
        "X, y = load_breast_cancer(return_X_y=True)\n",
        "\n",
        "# Split the dataset into training and testing sets.\n",
        "# 70% of the data is used for training, and 30% is for testing.\n",
        "# `random_state=42` ensures the split is reproducible.\n",
        "X_train, X_test, y_train, y_test = train_test_split(X, y, test_size=0.3, random_state=42)\n",
        "\n",
        "# Standardize the features.\n",
        "# StandardScaler removes the mean and scales to unit variance.\n",
        "# This is crucial for Perceptron as it is sensitive to feature scaling.\n",
        "scaler = StandardScaler()\n",
        "# `fit_transform` learns the scaling parameters from the training data and applies the transformation.\n",
        "X_train_scaled = scaler.fit_transform(X_train)\n",
        "# `transform` applies the same scaling learned from the training data to the test data.\n",
        "# This prevents data leakage from the test set.\n",
        "X_test_scaled = scaler.transform(X_test)\n",
        "\n",
        "# Train the Perceptron model.\n",
        "# `max_iter` sets the maximum number of passes over the training data.\n",
        "# `random_state` ensures the weight initialization is the same for reproducibility.\n",
        "perceptron = Perceptron(max_iter=100, random_state=42)\n",
        "# `fit` trains the model using the scaled training data.\n",
        "perceptron.fit(X_train_scaled, y_train)\n",
        "\n",
        "# Calculate accuracy and loss (0-1 loss).\n",
        "# `score` returns the mean accuracy on the given test data and labels.\n",
        "train_acc = perceptron.score(X_train_scaled, y_train)\n",
        "test_acc = perceptron.score(X_test_scaled, y_test)\n",
        "train_loss = 1 - train_acc  # 0-1 loss is simply 1 minus accuracy.\n",
        "test_loss = 1 - test_acc\n",
        "\n",
        "# Calculate the margin.\n",
        "# The margin is the distance of the closest data point to the decision boundary.\n",
        "# `decision_function` returns the distance of each sample to the hyperplane.\n",
        "train_distances = perceptron.decision_function(X_train_scaled)\n",
        "test_distances = perceptron.decision_function(X_test_scaled)\n",
        "# The margin is the minimum absolute distance of any point to the boundary.\n",
        "train_margin = np.min(np.abs(train_distances))\n",
        "test_margin = np.min(np.abs(test_distances))\n",
        "\n",
        "# Print the final results for training and testing.\n",
        "print(f\"Training: Accuracy={train_acc:.3f}, Loss={train_loss:.3f}, Margin={train_margin:.3f}\")\n",
        "print(f\"Testing:  Accuracy={test_acc:.3f}, Loss={test_loss:.3f}, Margin={test_margin:.3f}\")"
      ],
      "metadata": {
        "trusted": true,
        "colab": {
          "base_uri": "https://localhost:8080/"
        },
        "id": "UUV9NvkxYefg",
        "outputId": "a69239b8-eeaa-4a6a-ddbe-e44f9179b6d7"
      },
      "outputs": [
        {
          "output_type": "stream",
          "name": "stdout",
          "text": [
            "Training: Accuracy=0.9798994974874372, Loss=0.02010050251256279, Margin=0.477061794322033\n",
            "Testing:  Accuracy=0.9824561403508771, Loss=0.01754385964912286, Margin=1.0933477472864768\n"
          ]
        }
      ],
      "execution_count": null
    },
    {
      "cell_type": "code",
      "source": [
        "print(f\"Training: Accuracy={train_acc:.3f}, Loss={train_loss:.3f}, Margin={train_margin:.3f}\")\n",
        "print(f\"Testing:  Accuracy={test_acc:.3f}, Loss={test_loss:.3f}, Margin={test_margin:.3f}\")"
      ],
      "metadata": {
        "trusted": true,
        "colab": {
          "base_uri": "https://localhost:8080/"
        },
        "id": "08tefX7DYefg",
        "outputId": "dcc4ca55-b194-4643-82a7-509980905cd1"
      },
      "outputs": [
        {
          "output_type": "stream",
          "name": "stdout",
          "text": [
            "Training: Accuracy=0.980, Loss=0.020, Margin=0.477\n",
            "Testing:  Accuracy=0.982, Loss=0.018, Margin=1.093\n"
          ]
        }
      ],
      "execution_count": null
    },
    {
      "cell_type": "markdown",
      "source": [
        "------------------------------------------\n",
        "------------------------------------------\n",
        "------------------------------------------"
      ],
      "metadata": {
        "id": "CgdK9SeJH7Ep"
      }
    },
    {
      "cell_type": "markdown",
      "source": [
        "# Task 1 : Find the \"most confident\" predictions\n",
        "\n",
        "Hint: think about what can we calculate the Min and Max for ?\n"
      ],
      "metadata": {
        "id": "nG5NGw2zk3dt"
      }
    },
    {
      "cell_type": "markdown",
      "source": [
        "# Task 2 : Check for Perfect Classifiers (How many random classifiers achieve perfect accuracy \"100%\")\n",
        "\n",
        "Hint: How can we use the \"LinearClassifier\" and the \"clf.compute_error\" in a loop ?"
      ],
      "metadata": {
        "id": "hDeMs8I3IHsN"
      }
    },
    {
      "cell_type": "markdown",
      "source": [
        "# Task 3 : Calclulate some statistics about the synthetic data such the mean of each feature. How can we check this this dataset is balanced ?"
      ],
      "metadata": {
        "id": "G3NKosfFJFBP"
      }
    },
    {
      "cell_type": "markdown",
      "source": [
        "---------------------------------"
      ],
      "metadata": {
        "id": "Wyb_vVEKLZeD"
      }
    },
    {
      "cell_type": "code",
      "source": [],
      "metadata": {
        "id": "h6KXPikHLaQa"
      },
      "execution_count": null,
      "outputs": []
    }
  ]
}